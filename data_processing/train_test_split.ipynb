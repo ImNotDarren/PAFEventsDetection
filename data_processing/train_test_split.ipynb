{
 "cells": [
  {
   "cell_type": "code",
   "execution_count": 1,
   "id": "f231ae3c",
   "metadata": {},
   "outputs": [],
   "source": [
    "import pickle\n",
    "from sklearn.model_selection import train_test_split"
   ]
  },
  {
   "cell_type": "code",
   "execution_count": 2,
   "id": "486050be",
   "metadata": {},
   "outputs": [],
   "source": [
    "DATA_PATH = '../data/data.pkl'\n",
    "\n",
    "with open(DATA_PATH, 'rb') as file:\n",
    "    data = pickle.load(file)"
   ]
  },
  {
   "cell_type": "code",
   "execution_count": 3,
   "id": "7985b224",
   "metadata": {},
   "outputs": [],
   "source": [
    "train, test = train_test_split(data, test_size=0.25, random_state=42)"
   ]
  },
  {
   "cell_type": "code",
   "execution_count": 4,
   "id": "e0c9fcd7",
   "metadata": {},
   "outputs": [],
   "source": [
    "with open('../data/train.pkl', 'wb') as file:\n",
    "    pickle.dump(train, file)\n",
    "    \n",
    "with open('../data/test.pkl', 'wb') as file:\n",
    "    pickle.dump(test, file)"
   ]
  }
 ],
 "metadata": {
  "kernelspec": {
   "display_name": "Python 3 (deep_learning)",
   "language": "python",
   "name": "deep_learning"
  },
  "language_info": {
   "codemirror_mode": {
    "name": "ipython",
    "version": 3
   },
   "file_extension": ".py",
   "mimetype": "text/x-python",
   "name": "python",
   "nbconvert_exporter": "python",
   "pygments_lexer": "ipython3",
   "version": "3.8.13"
  }
 },
 "nbformat": 4,
 "nbformat_minor": 5
}
