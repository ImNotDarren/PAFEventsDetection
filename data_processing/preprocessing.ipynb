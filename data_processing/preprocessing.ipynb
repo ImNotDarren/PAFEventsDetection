{
 "cells": [
  {
   "cell_type": "code",
   "execution_count": 16,
   "id": "3d097234",
   "metadata": {},
   "outputs": [],
   "source": [
    "import pickle\n",
    "import numpy as np\n",
    "import pandas as pd\n",
    "from tensorflow import keras\n",
    "from tensorflow.keras.utils import to_categorical\n",
    "from biosppy.signals.tools import filter_signal\n",
    "from biosppy.signals import ecg\n",
    "import json"
   ]
  },
  {
   "cell_type": "code",
   "execution_count": 13,
   "id": "d486bc07",
   "metadata": {},
   "outputs": [],
   "source": [
    "# def filter_signals(sig, fs):\n",
    "#     sig_filtered = [filter_signal(sig[:,0],\n",
    "#                     ftype='FIR',\n",
    "#                     band='bandpass',\n",
    "#                     order=50,\n",
    "#                     frequency=[0.5,45],\n",
    "#                     sampling_rate=fs)[0],\n",
    "#                     filter_signal(sig[:,1],\n",
    "#                     ftype='FIR',\n",
    "#                     band='bandpass',\n",
    "#                     order=50,\n",
    "#                     frequency=[0.5,45],\n",
    "#                     sampling_rate=fs)[0]\n",
    "#                     ]\n",
    "#     return sig_filtered\n",
    "\n",
    "# def get_rpeaks(sig_filtered, fs):\n",
    "#     rpeaks = ecg.christov_segmenter(sig_filtered[0], fs)[0]\n",
    "#     return rpeaks.tolist()\n",
    "\n",
    "# def preprocessing(data):\n",
    "#     fs = data['fs']\n",
    "#     # filter data\n",
    "#     sig = filter_signals(data['sig'], fs)\n",
    "        \n",
    "#     # get R-peaks\n",
    "#     rpeaks = get_rpeaks(sig, fs)\n",
    "        \n",
    "#     sig = np.transpose(sig)\n",
    "        \n",
    "#     return sig.tolist(), rpeaks\n",
    "\n",
    "def get_train(train):\n",
    "    new_train = []\n",
    "    for i in range(len(train)):\n",
    "        print(str(i+1) + '/' + str(len(train)), end='\\r')\n",
    "        # filter signals and get rpeaks\n",
    "#         train[i]['sig_filtered'] = [filter_signal(train[i]['sig'][:,0],\n",
    "#                                     ftype='FIR',\n",
    "#                                     band='bandpass',\n",
    "#                                     order=50,\n",
    "#                                     frequency=[0.5,45],\n",
    "#                                     sampling_rate=train[i]['fs'])[0],\n",
    "#                                     filter_signal(train[i]['sig'][:,1],\n",
    "#                                     ftype='FIR',\n",
    "#                                     band='bandpass',\n",
    "#                                     order=50,\n",
    "#                                     frequency=[0.5,45],\n",
    "#                                     sampling_rate=train[i]['fs'])[0]\n",
    "#                                     ]\n",
    "#         train[i]['rpeaks'] = ecg.christov_segmenter(train[i]['sig_filtered'][0], train[i]['fs'])[0].tolist()\n",
    "#         train[i]['sig'] = train[i]['sig'].tolist()\n",
    "#         train[i]['beat_loc'] = train[i]['beat_loc'].tolist()\n",
    "#         train[i]['af_start_scripts'] = train[i]['af_start_scripts'].tolist()\n",
    "#         train[i]['af_end_scripts'] = train[i]['af_end_scripts'].tolist()\n",
    "\n",
    "        tmp = dict()\n",
    "        tmp['record_name'] = train[i]['record_name']\n",
    "        tmp['fs'] = train[i]['fs']\n",
    "        tmp['sig_filtered'] = np.transpose([filter_signal(train[i]['sig'][:,0],\n",
    "                                               ftype='FIR',\n",
    "                                               band='bandpass',\n",
    "                                               order=50,\n",
    "                                               frequency=[0.5,45],\n",
    "                                               sampling_rate=train[i]['fs'])[0],\n",
    "                                               filter_signal(train[i]['sig'][:,1],\n",
    "                                               ftype='FIR',\n",
    "                                               band='bandpass',\n",
    "                                               order=50,\n",
    "                                               frequency=[0.5,45],\n",
    "                                               sampling_rate=train[i]['fs'])[0]\n",
    "                                               ])\n",
    "        tmp['rpeaks'] = ecg.christov_segmenter(tmp['sig_filtered'][:,0], train[i]['fs'])[0].tolist()\n",
    "        tmp['sig_filtered'] = tmp['sig_filtered'].tolist()\n",
    "        tmp['af_start'] = [train[i]['beat_loc'][x] for x in train[i]['af_start_scripts']]\n",
    "        tmp['af_end'] = [train[i]['beat_loc'][x] for x in train[i]['af_end_scripts']]\n",
    "        tmp['class_true'] = train[i]['class_true']\n",
    "        \n",
    "        new_train.append(tmp)\n",
    "        break\n",
    "\n",
    "    return new_train"
   ]
  },
  {
   "cell_type": "code",
   "execution_count": 5,
   "id": "5844932c",
   "metadata": {},
   "outputs": [],
   "source": [
    "TRAINING_DATA_PATH = '../data/train.pkl'\n",
    "with open(TRAINING_DATA_PATH, 'rb') as file:\n",
    "    train = pickle.load(file)"
   ]
  },
  {
   "cell_type": "code",
   "execution_count": 6,
   "id": "ceb5f9b1",
   "metadata": {},
   "outputs": [
    {
     "data": {
      "text/plain": [
       "dict_keys(['record_name', 'sig', 'sig_len', 'fs', 'beat_loc', 'af_start_scripts', 'af_end_scripts', 'class_true'])"
      ]
     },
     "execution_count": 6,
     "metadata": {},
     "output_type": "execute_result"
    }
   ],
   "source": [
    "train[0].keys()"
   ]
  },
  {
   "cell_type": "code",
   "execution_count": 14,
   "id": "6baadfde",
   "metadata": {},
   "outputs": [
    {
     "name": "stdout",
     "output_type": "stream",
     "text": [
      "1/1068\r"
     ]
    }
   ],
   "source": [
    "new_train = get_train(train)"
   ]
  },
  {
   "cell_type": "code",
   "execution_count": 17,
   "id": "c81a77df",
   "metadata": {},
   "outputs": [],
   "source": [
    "with open('../data/train.json', 'w') as file:\n",
    "    json.dump(new_train, file)"
   ]
  },
  {
   "cell_type": "code",
   "execution_count": null,
   "id": "dcacd902",
   "metadata": {},
   "outputs": [],
   "source": []
  }
 ],
 "metadata": {
  "kernelspec": {
   "display_name": "Python 3 (deep_learning)",
   "language": "python",
   "name": "deep_learning"
  },
  "language_info": {
   "codemirror_mode": {
    "name": "ipython",
    "version": 3
   },
   "file_extension": ".py",
   "mimetype": "text/x-python",
   "name": "python",
   "nbconvert_exporter": "python",
   "pygments_lexer": "ipython3",
   "version": "3.8.13"
  }
 },
 "nbformat": 4,
 "nbformat_minor": 5
}
