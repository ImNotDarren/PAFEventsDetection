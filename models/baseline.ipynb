{
 "cells": [
  {
   "cell_type": "code",
   "execution_count": 5,
   "id": "3602140e",
   "metadata": {},
   "outputs": [],
   "source": [
    "import pickle\n",
    "import numpy as np\n",
    "import pandas as pd\n",
    "from tensorflow.keras.models import Sequential\n",
    "from tensorflow.keras.layers import Dense, Conv1D, InputLayer"
   ]
  },
  {
   "cell_type": "code",
   "execution_count": 2,
   "id": "c503272a",
   "metadata": {},
   "outputs": [],
   "source": [
    "TRAINING_DATA_PATH = '../data/train.pkl'\n",
    "TEST_DATA_PATH = '../data/test.pkl'\n",
    "\n",
    "# load data\n",
    "with open(TRAINING_DATA_PATH, 'rb') as file:\n",
    "    train = pickle.load(file)\n",
    "\n",
    "with open(TEST_DATA_PATH, 'rb') as file:\n",
    "    test = pickle.load(file)"
   ]
  },
  {
   "cell_type": "code",
   "execution_count": 4,
   "id": "be32890f",
   "metadata": {},
   "outputs": [
    {
     "data": {
      "text/plain": [
       "{'record_name': 'data_1_6',\n",
       " 'sig': array([[ 0.00051335,  0.0754006 ],\n",
       "        [ 0.00122413,  0.10162405],\n",
       "        [ 0.0056863 ,  0.10070852],\n",
       "        ...,\n",
       "        [ 0.00513347, -0.10011996],\n",
       "        [ 0.00912177, -0.08311723],\n",
       "        [ 0.01401831, -0.09475756]]),\n",
       " 'sig_len': 722488,\n",
       " 'fs': 200,\n",
       " 'result': 'N'}"
      ]
     },
     "execution_count": 4,
     "metadata": {},
     "output_type": "execute_result"
    }
   ],
   "source": [
    "train[0]"
   ]
  },
  {
   "cell_type": "code",
   "execution_count": null,
   "id": "2f8b82f0",
   "metadata": {},
   "outputs": [],
   "source": [
    "# build cnn\n",
    "\n",
    "model = Sequential()\n",
    "model.add(InputLayer(input_shape=))"
   ]
  }
 ],
 "metadata": {
  "kernelspec": {
   "display_name": "Python 3 (deep_learning)",
   "language": "python",
   "name": "deep_learning"
  },
  "language_info": {
   "codemirror_mode": {
    "name": "ipython",
    "version": 3
   },
   "file_extension": ".py",
   "mimetype": "text/x-python",
   "name": "python",
   "nbconvert_exporter": "python",
   "pygments_lexer": "ipython3",
   "version": "3.8.13"
  }
 },
 "nbformat": 4,
 "nbformat_minor": 5
}
